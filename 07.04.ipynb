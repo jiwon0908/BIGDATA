{
 "cells": [
  {
   "cell_type": "markdown",
   "metadata": {},
   "source": [
    "# 박지원"
   ]
  },
  {
   "cell_type": "markdown",
   "metadata": {},
   "source": [
    "# 61"
   ]
  },
  {
   "cell_type": "markdown",
   "metadata": {},
   "source": [
    "In this exercise you will create a program that computes the average of a collection of values entered by the user. The user will enter 0 as a sentinel value to indicate that no further values will be provided. Your program should display an appropriate\n",
    "error message if the first value entered by the user is 0.\n"
   ]
  },
  {
   "cell_type": "code",
   "execution_count": 19,
   "metadata": {},
   "outputs": [
    {
     "name": "stdout",
     "output_type": "stream",
     "text": [
      "0\n",
      "try again\n",
      "1\n",
      "2\n",
      "3\n",
      "4\n",
      "5\n",
      "6\n",
      "7\n",
      "8\n",
      "9\n",
      "10\n",
      "0\n",
      "5.5\n"
     ]
    }
   ],
   "source": [
    "l= list()\n",
    "while True:\n",
    "    a= int(input())\n",
    "        \n",
    "    l.append(a)\n",
    "    if l[0]== 0:\n",
    "        l.clear()\n",
    "        print(\"try again\")\n",
    "        continue\n",
    "        \n",
    "    if a== 0:\n",
    "        l.remove(0)\n",
    "        print(sum(l)/ len(l))\n",
    "        break;"
   ]
  },
  {
   "cell_type": "markdown",
   "metadata": {},
   "source": [
    "---"
   ]
  },
  {
   "cell_type": "markdown",
   "metadata": {},
   "source": [
    "# 63\n",
    "\n",
    "Write a program that displays a temperature conversion table for degrees Celsius and degrees Fahrenheit. The table should include rows for all temperatures between 0 and 100 degrees Celsius that are multiples of 10 degrees Celsius. Include appropriate headings on your columns. The formula for converting between degrees Celsius and\n",
    "degrees Fahrenheit can be found on the internet."
   ]
  },
  {
   "cell_type": "code",
   "execution_count": 26,
   "metadata": {},
   "outputs": [
    {
     "name": "stdout",
     "output_type": "stream",
     "text": [
      "Celsius  Fahrenheit\n",
      "0        32.0\n",
      "10        50.0\n",
      "20        68.0\n",
      "30        86.0\n",
      "40        104.0\n",
      "50        122.0\n",
      "60        140.0\n",
      "70        158.0\n",
      "80        176.0\n",
      "90        194.0\n",
      "100        212.0\n"
     ]
    }
   ],
   "source": [
    "l= list()\n",
    "print(\"Celsius  Fahrenheit\")\n",
    "for i in range(0,11):\n",
    "    print(i* 10, \"      \", i* 10 * 180 / 100 + 32)"
   ]
  },
  {
   "cell_type": "markdown",
   "metadata": {},
   "source": [
    "---"
   ]
  },
  {
   "cell_type": "markdown",
   "metadata": {},
   "source": [
    "# 66\n",
    "\n",
    "Exercise 51 included a table that shows the conversion from letter grades to grade points at a particular academic institution. In this exercise you will compute the grade point average of an arbitrary number of letter grades entered by the user. The user will enter a blank line to indicate that all of the grades have been provided. For example, if the user enters A, followed by C+, followed by B, followed by a blank\n",
    "line then your program should report a grade point average of 3.1.\n",
    "You may find your solution to Exercise 51 helpful when completing this exercise. Your program does not need to do any error checking. It can assume that each value\n",
    "entered by the user will always be a valid letter grade or a blank line."
   ]
  },
  {
   "cell_type": "code",
   "execution_count": 27,
   "metadata": {},
   "outputs": [
    {
     "name": "stdout",
     "output_type": "stream",
     "text": [
      "A\n",
      "C+\n",
      "B\n",
      "\n",
      "3.1\n"
     ]
    }
   ],
   "source": [
    "count= 0\n",
    "sum= float()\n",
    "while True:\n",
    "    a= input()\n",
    "    if a== \"\":\n",
    "        print(sum/ count)\n",
    "        break\n",
    "    count+= 1\n",
    "    if a== \"A+\":\n",
    "        sum+= 4.0\n",
    "    if a== \"A\":\n",
    "        sum+= 4.0\n",
    "    if a== \"A-\":\n",
    "        sum+= 3.7\n",
    "    if a== \"B+\":\n",
    "        sum+= 3.3\n",
    "    if a== \"B\":\n",
    "        sum+= 3.0\n",
    "    if a== \"B-\":\n",
    "        sum+= 2.7\n",
    "    if a== \"C+\":\n",
    "        sum+= 2.3\n",
    "    if a== \"C\":\n",
    "        sum+= 2.0\n",
    "    if a== \"C-\":\n",
    "        sum+= 1.7\n",
    "    if a== \"D+\":\n",
    "        sum+= 1.3\n",
    "    if a== \"D\":\n",
    "        sum+= 1.0\n",
    "    if a== \"F\":\n",
    "        sum+= 0"
   ]
  },
  {
   "cell_type": "markdown",
   "metadata": {},
   "source": [
    "---"
   ]
  },
  {
   "cell_type": "markdown",
   "metadata": {},
   "source": [
    "# 67"
   ]
  },
  {
   "cell_type": "markdown",
   "metadata": {},
   "source": [
    "A particular zoo determines the price of admission based on the age of the guest. Guests 2 years of age and less are admitted without charge. Children between 3 and 12 years of age cost $14.00. Seniors aged 65 years and over cost $18.00. Admission\n",
    "for all other guests is $23.00.\n",
    "Create a program that begins by reading the ages of all of the guests in a group\n",
    "from the user, with one age entered on each line. The user will enter a blank line to indicate that there are no more guests in the group. Then your program should display the admission cost for the group with an appropriate message. The cost should be displayed using two decimal places."
   ]
  },
  {
   "cell_type": "code",
   "execution_count": 36,
   "metadata": {},
   "outputs": [
    {
     "name": "stdout",
     "output_type": "stream",
     "text": [
      "1\n",
      "1\n",
      "1\n",
      "65\n",
      "5\n",
      "35\n",
      "\n",
      " kinder   :  3\n",
      " children :  1\n",
      " senior   :  1\n",
      " others   :  1\n",
      "-----------------\n",
      " total    :  55.00\n"
     ]
    }
   ],
   "source": [
    "kinder= 0\n",
    "children= 0\n",
    "senior= 0\n",
    "others= 0\n",
    "\n",
    "while True:\n",
    "    a= input()\n",
    "    \n",
    "    if a== \"\":\n",
    "        print(\" kinder   : \", kinder)\n",
    "        print(\" children : \", children)\n",
    "        print(\" senior   : \", senior)\n",
    "        print(\" others   : \", others)\n",
    "        print(\"-----------------\")\n",
    "        total= children*14 + 18* senior+ others* 23\n",
    "        print(\" total    : \", '%.2f' % total)\n",
    "        break\n",
    "    a= int(a)\n",
    "    \n",
    "    if a<= 2:\n",
    "        kinder+= 1\n",
    "    elif 3<= a<= 12:\n",
    "        children+= 1\n",
    "    elif a>= 65:\n",
    "        senior+= 1\n",
    "    else:\n",
    "        others+= 1"
   ]
  },
  {
   "cell_type": "markdown",
   "metadata": {},
   "source": [
    "---"
   ]
  },
  {
   "cell_type": "markdown",
   "metadata": {},
   "source": [
    "# 72\n",
    "\n",
    "A string is a palindrome if it is identical forward and backward. For example “anna”, “civic”, “level” and “hannah” are all examples of palindromic words. Write a program that reads a string from the user and uses a loop to determines whether or not it is a\n",
    "palindrome. Display the result, including a meaningful output message."
   ]
  },
  {
   "cell_type": "code",
   "execution_count": 48,
   "metadata": {},
   "outputs": [
    {
     "name": "stdout",
     "output_type": "stream",
     "text": [
      "anna\n",
      "anna is palindrome\n"
     ]
    }
   ],
   "source": [
    "a= input()\n",
    "check= True\n",
    "\n",
    "for i in range(len(a)// 2):\n",
    "    if a[i]!= a[len(a)- 1- i]:\n",
    "        check= False\n",
    "        \n",
    "if check: \n",
    "    print(a, \"is palindrome\")\n",
    "else:\n",
    "    print(a, \"is not palindrome\")  "
   ]
  },
  {
   "cell_type": "markdown",
   "metadata": {},
   "source": [
    "---"
   ]
  },
  {
   "cell_type": "markdown",
   "metadata": {},
   "source": [
    "# 74\n",
    "\n",
    "In this exercise you will create a program that displays a multiplication table that shows the products of all combinations of integers from 1 times 1 up to and including 10 times 10. Your multiplication table should include a row of labels across the top of it containing the numbers 1 through 10. It should also include labels down the left side consisting of the numbers 1 through 10. The expected output from the program\n",
    "is shown below:\n",
    "\n",
    "\n",
    "When completing this exercise you will probably find it helpful to be able to print out a value without moving down to the next line. This can be accomplished by added end=\"\" as the last parameter to your print statement. For example, print(\"A\") will display the letter A and then move down to the next line. The statement print(\"A\", end=\"\") will display the letter A without moving down to the next line, causing the next print statement to display its result on the same line as the letter A."
   ]
  },
  {
   "cell_type": "code",
   "execution_count": 64,
   "metadata": {},
   "outputs": [
    {
     "name": "stdout",
     "output_type": "stream",
     "text": [
      "       1   2   3   4   5   6   7   8   9  10\n",
      "   1   1   2   3   4   5   6   7   8   9  10\n",
      "   2   2   4   6   8  10  12  14  16  18  20\n",
      "   3   3   6   9  12  15  18  21  24  27  30\n",
      "   4   4   8  12  16  20  24  28  32  36  40\n",
      "   5   5  10  15  20  25  30  35  40  45  50\n",
      "   6   6  12  18  24  30  36  42  48  54  60\n",
      "   7   7  14  21  28  35  42  49  56  63  70\n",
      "   8   8  16  24  32  40  48  56  64  72  80\n",
      "   9   9  18  27  36  45  54  63  72  81  90\n",
      "  10  10  20  30  40  50  60  70  80  90 100\n"
     ]
    }
   ],
   "source": [
    "c= [0, 1, 2, 3, 4, 5, 6, 7, 8, 9, 10]\n",
    "r= [0, 1, 2, 3, 4, 5, 6, 7, 8, 9, 10]\n",
    "for i in c:\n",
    "    for j in r:\n",
    "        if i== 0 and j== 0:\n",
    "            print(\"    \", end= \"\")\n",
    "            r[0]= 1\n",
    "            c[0]= 1\n",
    "            i= 1\n",
    "            continue\n",
    "        tmp= i*j\n",
    "        print('%4d' %tmp, end= \"\")\n",
    "    print()"
   ]
  },
  {
   "cell_type": "markdown",
   "metadata": {},
   "source": [
    "---"
   ]
  },
  {
   "cell_type": "markdown",
   "metadata": {},
   "source": [
    "# 75\n",
    "\n",
    "The greatest common divisor of two positive integers, n and m, is the largest number, d, which divides evenly into both n and m. There are several algorithms that can be\n",
    "used to solve this problem, including:\n",
    "Initialize d to the smaller of m and n.\n",
    "While d does not evenly divide m or d does not evenly divide n do\n",
    "Decrease the value of d by 1\n",
    "Report d as the greatest common divisor of n and m\n",
    "Write a program that reads two positive integers from the user and uses this algorithm to determine and report their greatest common divisor.\n"
   ]
  },
  {
   "cell_type": "code",
   "execution_count": 70,
   "metadata": {},
   "outputs": [
    {
     "name": "stdout",
     "output_type": "stream",
     "text": [
      "36\n",
      "81\n",
      "9\n"
     ]
    }
   ],
   "source": [
    "m= int(input())\n",
    "n= int(input())\n",
    "\n",
    "if m> n:\n",
    "    d= n\n",
    "else:\n",
    "    d= m\n",
    "check= True\n",
    "\n",
    "while check:\n",
    "    if m% d== 0 and n% d== 0:\n",
    "        check= False\n",
    "    else:\n",
    "        d-= 1\n",
    "        check= True\n",
    "print(d)"
   ]
  },
  {
   "cell_type": "markdown",
   "metadata": {},
   "source": [
    "---"
   ]
  },
  {
   "cell_type": "markdown",
   "metadata": {},
   "source": [
    "# 77\n",
    "\n",
    "Write a program that converts a binary (base 2) number to decimal (base 10). Your program should begin by reading the binary number from the user as a string. Then it should compute the equivalent decimal number by processing each digit in the binary number. Finally, your program should display the equivalent decimal number\n",
    "with an appropriate message."
   ]
  },
  {
   "cell_type": "code",
   "execution_count": 77,
   "metadata": {},
   "outputs": [
    {
     "name": "stdout",
     "output_type": "stream",
     "text": [
      "111\n",
      "1  + 2  + 4  = 7\n"
     ]
    }
   ],
   "source": [
    "a= input()\n",
    "sum= 0\n",
    "for i in range(len(a)- 1):\n",
    "    sum+= 2**i* int(a[i])\n",
    "    print(2**i* int(a[i]), \" + \", end= \"\")\n",
    "sum+= 2**(len(a)- 1)* int(a[i])\n",
    "print(2**(len(a)- 1)* int(a[i]), \" = \",  end= \"\")\n",
    "print(sum)"
   ]
  },
  {
   "cell_type": "markdown",
   "metadata": {},
   "source": [
    "---"
   ]
  },
  {
   "cell_type": "markdown",
   "metadata": {},
   "source": [
    "# 78\n",
    "\n",
    "Write a program that converts a decimal (base 10) number to binary (base 2). Read the decimal number from the user as an integer and then use the division algorithm shown below to perform the conversion. When the algorithm completes, result contains the binary representation of the number. Display the result, along with an appropriate\n",
    "message.\n",
    "Let result be an empty string\n",
    "Let q represent the number to convert repeat\n",
    "Set r equal to the remainder when q is divided by 2\n",
    "Convert r to a string and add it to the beginning of result\n",
    "Divide q by 2, discarding any remainder, and store the result back into q\n",
    "until q is 0"
   ]
  },
  {
   "cell_type": "code",
   "execution_count": 87,
   "metadata": {},
   "outputs": [
    {
     "name": "stdout",
     "output_type": "stream",
     "text": [
      "7\n",
      "7 (10) =  111 (2)\n"
     ]
    }
   ],
   "source": [
    "result= \"\"\n",
    "q= int(input())\n",
    "print(q, end= \"\")\n",
    "while True:\n",
    "    r= q% 2\n",
    "    result= str(r)+ result\n",
    "    q= int(q/ 2)\n",
    "    \n",
    "    if q== 0:\n",
    "        break\n",
    "print(\" (10) = \", result, \"(2)\")"
   ]
  }
 ],
 "metadata": {
  "kernelspec": {
   "display_name": "Python 3",
   "language": "python",
   "name": "python3"
  },
  "language_info": {
   "codemirror_mode": {
    "name": "ipython",
    "version": 3
   },
   "file_extension": ".py",
   "mimetype": "text/x-python",
   "name": "python",
   "nbconvert_exporter": "python",
   "pygments_lexer": "ipython3",
   "version": "3.6.5"
  }
 },
 "nbformat": 4,
 "nbformat_minor": 2
}
