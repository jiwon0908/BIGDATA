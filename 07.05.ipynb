{
 "cells": [
  {
   "cell_type": "markdown",
   "metadata": {},
   "source": [
    "# 박지원"
   ]
  },
  {
   "cell_type": "markdown",
   "metadata": {},
   "source": [
    "# 82\n",
    "\n",
    "In a particular jurisdiction, taxi fares consist of a base fare of $4.00, plus $0.25 for every 140 meters traveled. Write a function that takes the distance traveled (in kilometers) as its only parameter and returns the total fare as its only result. Write a\n",
    "main program that demonstrates the function.\n",
    "\n",
    "Hint: Taxi fares change over time. Use constants to represent the base fare and the variable portion of the fare so that the program can be updated easily when the rates increase."
   ]
  },
  {
   "cell_type": "code",
   "execution_count": 9,
   "metadata": {},
   "outputs": [],
   "source": [
    "def taxi(distance):\n",
    "    result= 4+ distance/ 140 * 0.25\n",
    "    return result"
   ]
  },
  {
   "cell_type": "code",
   "execution_count": 11,
   "metadata": {},
   "outputs": [
    {
     "data": {
      "text/plain": [
       "4.5"
      ]
     },
     "execution_count": 11,
     "metadata": {},
     "output_type": "execute_result"
    }
   ],
   "source": [
    "taxi(280)"
   ]
  },
  {
   "cell_type": "markdown",
   "metadata": {},
   "source": [
    "---"
   ]
  },
  {
   "cell_type": "markdown",
   "metadata": {},
   "source": [
    "# 84\n",
    "\n",
    "Write a function that takes three numbers as parameters, and returns the median value of those parameters as its result. Include a main program that reads three values from\n",
    "the user and displays their median.\n",
    "\n",
    "\n",
    "Hint: The median value is the middle of the three values when they are sorted into ascending order. It can be found using if statements, or with a little bit of mathematical creativity."
   ]
  },
  {
   "cell_type": "code",
   "execution_count": 23,
   "metadata": {},
   "outputs": [],
   "source": [
    "def median(x, y, z):\n",
    "    l= list([x, y, z])\n",
    "    l.sort\n",
    "    return l[1]"
   ]
  },
  {
   "cell_type": "code",
   "execution_count": 24,
   "metadata": {},
   "outputs": [
    {
     "name": "stdout",
     "output_type": "stream",
     "text": [
      "1\n",
      "45\n",
      "56\n",
      "45\n"
     ]
    }
   ],
   "source": [
    "x= input()\n",
    "y= input()\n",
    "z= input()\n",
    "\n",
    "print(median(x, y, z))"
   ]
  },
  {
   "cell_type": "markdown",
   "metadata": {},
   "source": [
    "---"
   ]
  },
  {
   "cell_type": "markdown",
   "metadata": {},
   "source": [
    "# 85 \n",
    "\n",
    "Words like first, second and third are referred to as ordinal numbers. In this exercise, you will write a function that takes an integer as its only parameter and returns a string containing the appropriate English ordinal number as its only result. Your function must handle the integers between 1 and 12 (inclusive). It should return an empty string if a value outside of this range is provided as a parameter. Include a main program that demonstrates your function by displaying each integer from 1 to 12 and its ordinal number. Your main program should only run when your file has\n",
    "not been imported into another program."
   ]
  },
  {
   "cell_type": "code",
   "execution_count": 25,
   "metadata": {},
   "outputs": [],
   "source": [
    "def ordinal_number(number):\n",
    "    num= int(number)\n",
    "    if 1<= num <= 12:\n",
    "        if num== 1:\n",
    "            result= \"first\"\n",
    "        elif num== 2:\n",
    "            result= \"second\"\n",
    "        if num== 3:\n",
    "            result= \"third\"\n",
    "        elif num== 4:\n",
    "            result= \"fouth\"\n",
    "        if num== 5:\n",
    "            result= \"fifth\"\n",
    "        elif num== 6:\n",
    "            result= \"sixth\"\n",
    "        if num== 7:\n",
    "            result= \"seventh\"\n",
    "        elif num== 8:\n",
    "            result= \"eighth\"\n",
    "        if num== 9:\n",
    "            result= \"ninth\"\n",
    "        elif num== 10:\n",
    "            result= \"tenth\"\n",
    "        if num== 11:\n",
    "            result= \"eleventh\"\n",
    "        elif num== 12:\n",
    "            result= \"twelfth\"\n",
    "    else:\n",
    "        result= \"\"\n",
    "\n",
    "    return result"
   ]
  },
  {
   "cell_type": "code",
   "execution_count": 30,
   "metadata": {},
   "outputs": [
    {
     "name": "stdout",
     "output_type": "stream",
     "text": [
      "first\n",
      "second\n",
      "third\n",
      "fouth\n",
      "fifth\n",
      "sixth\n",
      "seventh\n",
      "eighth\n",
      "ninth\n",
      "tenth\n",
      "eleventh\n",
      "twelfth\n"
     ]
    }
   ],
   "source": [
    "print(ordinal_number(1))\n",
    "print(ordinal_number(2))\n",
    "print(ordinal_number(3))\n",
    "print(ordinal_number(4))\n",
    "print(ordinal_number(5))\n",
    "print(ordinal_number(6))\n",
    "print(ordinal_number(7))\n",
    "print(ordinal_number(8))\n",
    "print(ordinal_number(9))\n",
    "print(ordinal_number(10))\n",
    "print(ordinal_number(11))\n",
    "print(ordinal_number(12))"
   ]
  },
  {
   "cell_type": "markdown",
   "metadata": {},
   "source": [
    "---"
   ]
  },
  {
   "cell_type": "markdown",
   "metadata": {},
   "source": [
    "# 88\n",
    "\n",
    "If you have 3 straws, possibly of differing lengths, it may or may not be possible to lay them down so that they form a triangle when their ends are touching. For example, if all of the straws have a length of 6 inches. then one can easily construct an equilateral triangle using them. However, if one straw is 6 inches. long, while the other two are each only 2 inches. long, then a triangle cannot be formed. In general, if any one length is greater than or equal to the sum of the other two then the lengths\n",
    "cannot be used to form a triangle. Otherwise they can form a triangle.\n",
    "Write a function that determines whether or not three lengths can form a triangle. The function will take 3 parameters and return a Boolean result. In addition, write a program that reads 3 lengths from the user and demonstrates the behaviour of this\n",
    "function."
   ]
  },
  {
   "cell_type": "code",
   "execution_count": 31,
   "metadata": {},
   "outputs": [],
   "source": [
    "def triangle(x, y, z):\n",
    "    l= list([x, y, z])\n",
    "    l.sort()\n",
    "    if l[2]>= l[0]+ l[1]:\n",
    "        return False\n",
    "    else:\n",
    "        return True"
   ]
  },
  {
   "cell_type": "code",
   "execution_count": 32,
   "metadata": {},
   "outputs": [
    {
     "name": "stdout",
     "output_type": "stream",
     "text": [
      "6\n",
      "2\n",
      "2\n",
      "X\n"
     ]
    }
   ],
   "source": [
    "x= input()\n",
    "y= input()\n",
    "x= input()\n",
    "\n",
    "if triangle(x, y, z):\n",
    "    print(\"O\")\n",
    "else:\n",
    "    print(\"X\")"
   ]
  },
  {
   "cell_type": "markdown",
   "metadata": {},
   "source": [
    "---"
   ]
  },
  {
   "cell_type": "markdown",
   "metadata": {},
   "source": [
    "# 92\n",
    "\n",
    "A prime number is an integer greater than 1 that is only divisible by one and itself. Write a function that determines whether or not its parameter is prime, returning True if it is, and False otherwise. Write a main program that reads an integer from the user and displays a message indicating whether or not it is prime. Ensure that the main program will not run if the file containing your solution is imported\n",
    "into another program."
   ]
  },
  {
   "cell_type": "code",
   "execution_count": 33,
   "metadata": {},
   "outputs": [],
   "source": [
    "def prime(number):\n",
    "    for i in range(2, int(number)):\n",
    "        if int(number)% i== 0:\n",
    "            return False\n",
    "    return True"
   ]
  },
  {
   "cell_type": "code",
   "execution_count": 34,
   "metadata": {},
   "outputs": [
    {
     "name": "stdout",
     "output_type": "stream",
     "text": [
      "5\n",
      "O\n"
     ]
    }
   ],
   "source": [
    "a= input()\n",
    "if prime(a):\n",
    "    print(\"O\")\n",
    "else:\n",
    "    print(\"X\")"
   ]
  },
  {
   "cell_type": "markdown",
   "metadata": {},
   "source": [
    "---"
   ]
  },
  {
   "cell_type": "markdown",
   "metadata": {},
   "source": [
    "# 86\n",
    "\n",
    "The Twelve Days of Christmas is a repetitive song that describes an increasingly long list of gifts sent to one’s true love on each of 12 days. A single gift is sent on the first day. A new gift is added to the collection on each additional day, and then the complete collection is sent. The first three verses of the song are shown below.\n",
    "The complete lyrics are available on the internet.\n",
    "On the first day of Christmas my true love sent to me:\n",
    "A partridge in a pear tree.\n",
    "On the second day of Christmas my true love sent to me:\n",
    "Two turtle doves,\n",
    "And a partridge in a pear tree.\n",
    "On the third day of Christmas my true love sent to me: Three French hens,\n",
    "Two turtle doves,\n",
    "And a partridge in a pear tree.\n",
    "Your task is to write a program that displays the complete lyrics for The Twelve Days of Christmas. Write a function that takes the verse number as its only parameter and displays the specified verse of the song. Then call that function 12 times with integers that increase from 1 to 12.\n",
    "Each item that is sent to the recipient in the song should only appear once in your program, with the possible exception of the partridge. It may appear twice if that helps you handle the difference between “A partridge in a pear tree” in the first verse and “And a partridge in a pear tree” in the subsequent verses. Import your solution to Exercise 85 to help you complete this exercise.\n"
   ]
  },
  {
   "cell_type": "code",
   "execution_count": 62,
   "metadata": {},
   "outputs": [],
   "source": [
    "def christmas(number):\n",
    "    print(\"On the \", ordinal_number(int(number)), \" day of Christmas\")\n",
    "    print(\"my true love sent to me: \")\n",
    "    for i in range(int(number), 0, -1):\n",
    "        if i== 1:\n",
    "            if int(number)== 1:\n",
    "                print(\"A partridge in a pear tree.\")\n",
    "            else:\n",
    "                print(\"And a partridge in a pear tree.\") \n",
    "        elif i== 2:\n",
    "            print(\"Two turtle doves,\")\n",
    "        elif i== 3:\n",
    "            print(\"Three French hens,\")\n",
    "        elif i== 4:\n",
    "            print(\"Four calling birds,\")\n",
    "        elif i== 5:\n",
    "            print(\"Five golden ring,\")\n",
    "        elif i== 6:\n",
    "            print(\"Six geese a laying,\")\n",
    "        elif i== 7:\n",
    "            print(\"Seven swans a swimming,\")\n",
    "        elif i== 8:\n",
    "            print(\"Eight maids a milking,\")\n",
    "        elif i== 9:\n",
    "            print(\"Nine ladies dancing,\")\n",
    "        elif i== 10:\n",
    "            print(\"Ten lords a leaping,\")\n",
    "        elif i== 11:\n",
    "            print(\"Eleven pipers piping,\")\n",
    "        elif i== 12:\n",
    "            print(\"Twelve drummers drumming,\")\n",
    "    pass"
   ]
  },
  {
   "cell_type": "code",
   "execution_count": 64,
   "metadata": {},
   "outputs": [
    {
     "name": "stdout",
     "output_type": "stream",
     "text": [
      "On the  first  day of Christmas\n",
      "my true love sent to me: \n",
      "A partridge in a pear tree.\n",
      "\n",
      "On the  second  day of Christmas\n",
      "my true love sent to me: \n",
      "Two turtle doves,\n",
      "And a partridge in a pear tree.\n",
      "\n",
      "On the  third  day of Christmas\n",
      "my true love sent to me: \n",
      "Three French hens,\n",
      "Two turtle doves,\n",
      "And a partridge in a pear tree.\n",
      "\n",
      "On the  fouth  day of Christmas\n",
      "my true love sent to me: \n",
      "Four calling birds,\n",
      "Three French hens,\n",
      "Two turtle doves,\n",
      "And a partridge in a pear tree.\n",
      "\n",
      "On the  fifth  day of Christmas\n",
      "my true love sent to me: \n",
      "Five golden ring,\n",
      "Four calling birds,\n",
      "Three French hens,\n",
      "Two turtle doves,\n",
      "And a partridge in a pear tree.\n",
      "\n",
      "On the  sixth  day of Christmas\n",
      "my true love sent to me: \n",
      "Six geese a laying,\n",
      "Five golden ring,\n",
      "Four calling birds,\n",
      "Three French hens,\n",
      "Two turtle doves,\n",
      "And a partridge in a pear tree.\n",
      "\n",
      "On the  seventh  day of Christmas\n",
      "my true love sent to me: \n",
      "Seven swans a swimming,\n",
      "Six geese a laying,\n",
      "Five golden ring,\n",
      "Four calling birds,\n",
      "Three French hens,\n",
      "Two turtle doves,\n",
      "And a partridge in a pear tree.\n",
      "\n",
      "On the  eighth  day of Christmas\n",
      "my true love sent to me: \n",
      "Eight maids a milking,\n",
      "Seven swans a swimming,\n",
      "Six geese a laying,\n",
      "Five golden ring,\n",
      "Four calling birds,\n",
      "Three French hens,\n",
      "Two turtle doves,\n",
      "And a partridge in a pear tree.\n",
      "\n",
      "On the  ninth  day of Christmas\n",
      "my true love sent to me: \n",
      "Nine ladies dancing,\n",
      "Eight maids a milking,\n",
      "Seven swans a swimming,\n",
      "Six geese a laying,\n",
      "Five golden ring,\n",
      "Four calling birds,\n",
      "Three French hens,\n",
      "Two turtle doves,\n",
      "And a partridge in a pear tree.\n",
      "\n",
      "On the  tenth  day of Christmas\n",
      "my true love sent to me: \n",
      "Ten lords a leaping,\n",
      "Nine ladies dancing,\n",
      "Eight maids a milking,\n",
      "Seven swans a swimming,\n",
      "Six geese a laying,\n",
      "Five golden ring,\n",
      "Four calling birds,\n",
      "Three French hens,\n",
      "Two turtle doves,\n",
      "And a partridge in a pear tree.\n",
      "\n",
      "On the  eleventh  day of Christmas\n",
      "my true love sent to me: \n",
      "Eleven pipers piping,\n",
      "Ten lords a leaping,\n",
      "Nine ladies dancing,\n",
      "Eight maids a milking,\n",
      "Seven swans a swimming,\n",
      "Six geese a laying,\n",
      "Five golden ring,\n",
      "Four calling birds,\n",
      "Three French hens,\n",
      "Two turtle doves,\n",
      "And a partridge in a pear tree.\n",
      "\n",
      "On the  twelfth  day of Christmas\n",
      "my true love sent to me: \n",
      "Twelve drummers drumming,\n",
      "Eleven pipers piping,\n",
      "Ten lords a leaping,\n",
      "Nine ladies dancing,\n",
      "Eight maids a milking,\n",
      "Seven swans a swimming,\n",
      "Six geese a laying,\n",
      "Five golden ring,\n",
      "Four calling birds,\n",
      "Three French hens,\n",
      "Two turtle doves,\n",
      "And a partridge in a pear tree.\n",
      "\n"
     ]
    }
   ],
   "source": [
    "christmas(1)\n",
    "print()\n",
    "christmas(2)\n",
    "print()\n",
    "christmas(3)\n",
    "print()\n",
    "christmas(4)\n",
    "print()\n",
    "christmas(5)\n",
    "print()\n",
    "christmas(6)\n",
    "print()\n",
    "christmas(7)\n",
    "print()\n",
    "christmas(8)\n",
    "print()\n",
    "christmas(9)\n",
    "print()\n",
    "christmas(10)\n",
    "print()\n",
    "christmas(11)\n",
    "print()\n",
    "christmas(12)\n",
    "print()"
   ]
  },
  {
   "cell_type": "markdown",
   "metadata": {},
   "source": [
    "---"
   ]
  },
  {
   "cell_type": "markdown",
   "metadata": {},
   "source": [
    "# 89\n",
    "\n",
    "Many people do not use capital letters correctly, especially when typing on small devices like smart phones. In this exercise, you will write a function that capitalizes the appropriate characters in a string. A lowercase “i” should be replaced with an uppercase “I” if it is both preceded and followed by a space. The first character in the string should also be capitalized, as well as the first non-space character after a “.”, “!” or “?”. For example, if the function is provided with the string “what time do i have to be there? what’s the address?” then it should return the string “What time do I have to be there? What’s the address?”. Include a main program that reads\n",
    "a string from the user, capitalizes it using your function, and displays the result.\n"
   ]
  },
  {
   "cell_type": "code",
   "execution_count": 93,
   "metadata": {},
   "outputs": [],
   "source": [
    "def capital(input):\n",
    "    l= list(input.split(\" \"))\n",
    "    check= False\n",
    "    tmp= list(l[0])\n",
    "    result= tmp[0].upper()\n",
    "    \n",
    "    for i in range(1, len(tmp)):\n",
    "        result+= tmp[i]\n",
    "        \n",
    "    for i in range(1, len(l)):\n",
    "        if l[i]== \"i\":\n",
    "            result+= \" I\"\n",
    "            continue\n",
    "        if check:\n",
    "            check= False\n",
    "            tmp= list(l[i])\n",
    "            result+= tmp[0].upper()\n",
    "            \n",
    "            for j in range(1, len(tmp)):\n",
    "                result+= tmp[j]\n",
    "            continue\n",
    "        tmp= list(l[i])\n",
    "        if tmp[len(tmp)- 1]== '.' or tmp[len(tmp)- 1]== '?' or tmp[len(tmp)- 1]== '!':\n",
    "            check= True\n",
    "        result+= \" \"\n",
    "        result+= l[i]\n",
    "        \n",
    "    print(result)\n",
    "    pass"
   ]
  },
  {
   "cell_type": "code",
   "execution_count": 94,
   "metadata": {},
   "outputs": [
    {
     "name": "stdout",
     "output_type": "stream",
     "text": [
      "what time do i have to be there? what’s the address?\n",
      "What time do I have to be there?What’s the address?\n"
     ]
    }
   ],
   "source": [
    "capital(input())"
   ]
  }
 ],
 "metadata": {
  "kernelspec": {
   "display_name": "Python 3",
   "language": "python",
   "name": "python3"
  },
  "language_info": {
   "codemirror_mode": {
    "name": "ipython",
    "version": 3
   },
   "file_extension": ".py",
   "mimetype": "text/x-python",
   "name": "python",
   "nbconvert_exporter": "python",
   "pygments_lexer": "ipython3",
   "version": "3.6.5"
  }
 },
 "nbformat": 4,
 "nbformat_minor": 2
}
