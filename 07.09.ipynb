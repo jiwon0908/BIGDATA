{
 "cells": [
  {
   "cell_type": "markdown",
   "metadata": {},
   "source": [
    "# 박지원\n",
    "\n",
    "# 129\n",
    "\n",
    "In this exercise you will simulate 1,000 rolls of two dice. Begin by writing a func- tion that simulates rolling a pair of six-sided dice. Your function will not take any\n",
    "parameters. It will return the total that was rolled on two dice as its only result. Write a main program that uses your function to simulate rolling two six-sided dice 1,000 times. As your program runs, it should count the number of times that each total occurs. Then it should display a table that summarizes this data. Express the frequency for each total as a percentage of the total number of rolls. Your program should also display the percentage expected by probability theory for each total.\n",
    "Sample output is shown below.\n",
    "\n"
   ]
  },
  {
   "cell_type": "code",
   "execution_count": 5,
   "metadata": {},
   "outputs": [],
   "source": [
    "import random\n",
    "def dice():\n",
    "    a= random.randint(1, 6)\n",
    "    b= random.randint(1, 6)\n",
    "    return [a, b]"
   ]
  },
  {
   "cell_type": "code",
   "execution_count": 30,
   "metadata": {},
   "outputs": [
    {
     "name": "stdout",
     "output_type": "stream",
     "text": [
      "\n",
      "Total    Simulated   Expected\n",
      "           Percent    Percent\n",
      "\n",
      "2           2.90         2.78\n",
      "3           7.60         5.56\n",
      "4           8.20         8.33\n",
      "5           10.40         11.11\n",
      "6           13.30         13.89\n",
      "7           15.40         16.67\n",
      "8           12.50         13.89\n",
      "9           12.10         11.11\n",
      "10           8.70         8.33\n",
      "11           6.30         5.56\n",
      "12           2.60         2.78\n"
     ]
    }
   ],
   "source": [
    "a= {2:0, 3:0, 4:0, 5:0, 6:0, 7:0, 8:0, 9:0, 10:0, 11:0, 12:0}\n",
    "expected= [2.78, 5.56, 8.33, 11.11, 13.89, 16.67, 13.89, 11.11, 8.33, 5.56, 2.78]\n",
    "for i in range(1000):\n",
    "    \n",
    "    num= sum(dice())\n",
    "    \n",
    "    a[num]+= 1\n",
    "print(\"\"\"\n",
    "Total    Simulated   Expected\n",
    "           Percent    Percent\n",
    "\"\"\")\n",
    "\n",
    "\n",
    "for i in range(2, 13):\n",
    "    result= a[i]/ 10\n",
    "    print(i, \"         \", '%.2f' %result, \"       \", expected[i- 2])"
   ]
  },
  {
   "cell_type": "markdown",
   "metadata": {},
   "source": [
    "# 130\n",
    "\n",
    "On some basic cell phones, text messages can be sent using the numeric keypad. Because each key has multiple letters associated with it, multiple key presses are needed for most letters. Pressing the number once generates the first letter on the key. Pressing the number 2, 3, 4 or 5 times generates the second, third, fourth or fifth\n",
    "character listed for that key.\n",
    "\n",
    "\n",
    "Write a program that displays the key presses that must be made to enter a text message read from the user. Construct a dictionary that maps from each letter or symbol to the key presses. Then use the dictionary to generate and display the presses for the user’s message. For example, if the user enters Hello, World! then your program should output 4433555555666110966677755531111. Ensure that your program handles both uppercase and lowercase letters. Ignore any characters that aren’t listed in the table above such as semicolons and brackets.\n"
   ]
  },
  {
   "cell_type": "code",
   "execution_count": 36,
   "metadata": {},
   "outputs": [],
   "source": [
    "\n",
    "d= {'A': '2', 'B': '22', 'C': '222', 'D': '3', 'E': '33', 'F': '333', 'G': '4', 'H': '44', 'I': '444', 'J': '5', 'K': '55', 'L': '555', 'M': '6','N': '66', 'O': '666', 'P': '7','Q': '77', 'R': '777', 'S': '7777', 'T': '8', 'U': '88', 'V': '888', 'W': '9', 'X': '99', 'Y': '999', 'Z': '9999', ' ': '0', '.': '1', ',': '11', '?': '111', '!': '1111', ':': '11111'}"
   ]
  },
  {
   "cell_type": "code",
   "execution_count": 48,
   "metadata": {},
   "outputs": [
    {
     "name": "stdout",
     "output_type": "stream",
     "text": [
      "Hello,World!\n",
      "443355555566611966677755531111\n"
     ]
    }
   ],
   "source": [
    "a= input()\n",
    "result= str()\n",
    "a= a.upper()\n",
    "\n",
    "for x in a:\n",
    "    try:\n",
    "        result+= d[x]\n",
    "    except:\n",
    "        continue\n",
    "    \n",
    "print(result)"
   ]
  },
  {
   "cell_type": "markdown",
   "metadata": {},
   "source": [
    "# 131\n",
    "\n",
    "Morse code is an encoding scheme that uses dashes and dots to represent numbers and letters. In this exercise, you will write a program that uses a dictionary to store the mapping from letters and numbers to Morse code. Use a period to represent a dot, and a hyphen to represent a dash. The mapping from letters and numbers to dashes\n",
    "and dots is shown in Table 6.1.\n",
    "Your program should read a message from the user. Then it should translate each\n",
    "letter and number in the message to Morse code, leaving a space between each sequence of dashes and dots. Your program should ignore any characters that are not letters or numbers. The Morse code for Hello, World! is shown below:"
   ]
  },
  {
   "cell_type": "code",
   "execution_count": 50,
   "metadata": {},
   "outputs": [],
   "source": [
    "d= {'A': '.-', 'B': '-...', 'C': '-.-.', 'D': '-..', 'E': '.', 'F': '..-.', 'G': '--.', 'H': '....', 'I': '..', 'J': '.---', 'K': '-.-', 'L': '.-..', 'M': '--','N': '-.', 'O': '---', 'P': '.--.','Q': '--.-', 'R': '.-.', 'S': '...', 'T': '-', 'U': '..-', 'V': '...-', 'W': '.--', 'X': '-..-', 'Y': '-.--', 'Z': '--..', '0': '-----', '1': '.----', '2': '..---', '3': '...--', '4': '....-', '5': '.....' , '6': '-....' , '7': '--...' , '8': '---..', '9': '----.'}"
   ]
  },
  {
   "cell_type": "code",
   "execution_count": 55,
   "metadata": {},
   "outputs": [
    {
     "name": "stdout",
     "output_type": "stream",
     "text": [
      "Hello, World!\n",
      ".... . .-.. .-.. --- .-- --- .-. .-.. -.. \n"
     ]
    }
   ],
   "source": [
    "a= input()\n",
    "a= a.upper()\n",
    "result= str()\n",
    "for i in a:\n",
    "    try:\n",
    "        result+= d[i]\n",
    "        result+= \" \"\n",
    "    except:\n",
    "        continue\n",
    "print(result)"
   ]
  },
  {
   "cell_type": "markdown",
   "metadata": {},
   "source": [
    "# 132\n",
    "\n",
    "In a Canadian postal code, the first, third and fifth characters are letters while the second, fourth and sixth characters are numbers. The province can be determined from the first character of a postal code, as shown in the following table. No valid\n",
    "postal codes currently begin with D, F, I, O, Q, U, W, or Z.\n",
    "\n",
    "The second character in a postal code identifies whether the address is rural or urban. If that character is a 0 then the address is rural. Otherwise it is urban.\n",
    "Create a program that reads a postal code from the user and displays the province associated with it, along with whether the address is urban or rural. For example, if the user enters T2N 1N4 then your program should indicate that the postal code is for an urban address in Alberta. If the user enters X0A 1B2 then your program should indicate that the postal code is for a rural address in Nunavut or Northwest Territories. Use a dictionary to map from the first character of the postal code to the province name. Display a meaningful error message if the postal code begins with an invalid character."
   ]
  },
  {
   "cell_type": "code",
   "execution_count": 61,
   "metadata": {},
   "outputs": [],
   "source": [
    "d= {'A': 'Newfoundland', 'B': 'Nova Scotia', 'C': 'Prince Edward Island', 'E': 'New Brunswick', 'G': 'Quebec', 'H': 'Quebec', 'J': 'Quebec', 'K': 'Ontario', 'L': 'Ontario', 'M': 'Ontario','N': 'Ontario', 'P': 'Ontario', 'R': 'Manitoba', 'S': 'Saskatchewan', 'T': 'Alberta', 'V': 'British Columbia', 'X': 'Nunavut ro Northwest Territories', 'Y': 'Yukon'}"
   ]
  },
  {
   "cell_type": "code",
   "execution_count": 62,
   "metadata": {},
   "outputs": [
    {
     "name": "stdout",
     "output_type": "stream",
     "text": [
      "X0A 1B2\n",
      "urban address in Nunavut ro Northwest Territories\n"
     ]
    }
   ],
   "source": [
    "a= input()\n",
    "a= a.upper()\n",
    "result= str()\n",
    "if a[1]== 0:\n",
    "    result+= 'rural address'\n",
    "else:\n",
    "    result+= 'urban address'\n",
    "\n",
    "result+= \" in \"\n",
    "result+= d[a[0]]\n",
    "\n",
    "print(result)"
   ]
  }
 ],
 "metadata": {
  "kernelspec": {
   "display_name": "Python 3",
   "language": "python",
   "name": "python3"
  },
  "language_info": {
   "codemirror_mode": {
    "name": "ipython",
    "version": 3
   },
   "file_extension": ".py",
   "mimetype": "text/x-python",
   "name": "python",
   "nbconvert_exporter": "python",
   "pygments_lexer": "ipython3",
   "version": "3.6.5"
  }
 },
 "nbformat": 4,
 "nbformat_minor": 2
}
