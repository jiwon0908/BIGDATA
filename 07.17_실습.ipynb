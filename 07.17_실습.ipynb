{
 "cells": [
  {
   "cell_type": "code",
   "execution_count": 21,
   "metadata": {},
   "outputs": [],
   "source": [
    "import requests\n",
    "from bs4 import BeautifulSoup"
   ]
  },
  {
   "cell_type": "code",
   "execution_count": 73,
   "metadata": {},
   "outputs": [],
   "source": [
    "url= \"http://openapi.airkorea.or.kr/openapi/services/rest/ArpltnInforInqireSvc/getMsrstnAcctoRltmMesureDnsty?\"\n",
    "params= {\n",
    "    \"serviceKey\": \"%2B9FQLDiaKTKOIouuPYgTMqAJ36zj3HCMPue9QSPSGeUNcD%2FRVIcnDqCAh%2Bmrotj5DnzfC9tzRCMovkzFWKj3iA%3D%3D\",\n",
    "    \"numOfRows\": \"10\",\n",
    "    \"pageSize\": \"10\",\n",
    "    \"pageNo\": \"1\",\n",
    "    \"startPage\": \"1\",\n",
    "    \"stationName\": \"%EC%A2%85%EB%A1%9C%EA%B5%AC\",\n",
    "    \"dataTerm\": \"DAILY\",\n",
    "    \"ver\": \"1.3\"\n",
    "}"
   ]
  },
  {
   "cell_type": "code",
   "execution_count": 176,
   "metadata": {},
   "outputs": [],
   "source": [
    "def jiwon(url=url, params=params):\n",
    "    for key, value in params.items():\n",
    "        url+= key+ \"=\"+ value+ \"&\"\n",
    "    url= url[:len(url)-1]\n",
    "    data= requests.get(url)\n",
    "    doc= BeautifulSoup(data.text, \"lxml\")\n",
    "    parsed= doc.findAll(\"item\")\n",
    "    timeList= [j.datatime.text for i, j in enumerate(parsed)]\n",
    "    nameList= [j.mangname.text for i, j in enumerate(parsed)]\n",
    "    so2List= [j.so2value.text for i, j in enumerate(parsed)]\n",
    "    o3List= [j.o3value.text for i, j in enumerate(parsed)]\n",
    "    coList= [j.covalue.text for i, j in enumerate(parsed)]\n",
    "    no2List= [j.no2value.text for i, j in enumerate(parsed)]\n",
    "    \n",
    "    conn= sqlite3.connect(\"jiwon.db\")\n",
    "    with conn:\n",
    "        cur= conn.cursor()\n",
    "        for i, j in enumerate(parsed):\n",
    "            cur.execute('insert into jiwon values (?, ?, ?, ?, ?, ?)', (timeList[i], nameList[i], so2List[i], o3List[i], coList[i], no2List[i]))\n",
    "\n",
    "    return parsed"
   ]
  },
  {
   "cell_type": "code",
   "execution_count": 177,
   "metadata": {},
   "outputs": [],
   "source": [
    "list= jiwon(url, params)"
   ]
  },
  {
   "cell_type": "code",
   "execution_count": 144,
   "metadata": {},
   "outputs": [],
   "source": [
    "import sqlite3"
   ]
  },
  {
   "cell_type": "code",
   "execution_count": null,
   "metadata": {},
   "outputs": [],
   "source": []
  }
 ],
 "metadata": {
  "kernelspec": {
   "display_name": "Python 3",
   "language": "python",
   "name": "python3"
  },
  "language_info": {
   "codemirror_mode": {
    "name": "ipython",
    "version": 3
   },
   "file_extension": ".py",
   "mimetype": "text/x-python",
   "name": "python",
   "nbconvert_exporter": "python",
   "pygments_lexer": "ipython3",
   "version": "3.6.5"
  }
 },
 "nbformat": 4,
 "nbformat_minor": 2
}
