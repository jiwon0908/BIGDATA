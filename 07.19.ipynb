{
 "cells": [
  {
   "cell_type": "code",
   "execution_count": 1,
   "metadata": {},
   "outputs": [],
   "source": [
    "import requests\n",
    "from bs4 import BeautifulSoup\n",
    "from selenium import webdriver\n",
    "import json\n",
    "from selenium.common.exceptions import NoSuchElementException"
   ]
  },
  {
   "cell_type": "code",
   "execution_count": 2,
   "metadata": {},
   "outputs": [],
   "source": [
    "driver= webdriver.Chrome()"
   ]
  },
  {
   "cell_type": "code",
   "execution_count": 5,
   "metadata": {},
   "outputs": [],
   "source": [
    "with open(\"account.json\", \"r\") as f:\n",
    "    data= json.load(f)"
   ]
  },
  {
   "cell_type": "code",
   "execution_count": null,
   "metadata": {},
   "outputs": [],
   "source": [
    "driver.get(\"http://www.naver.com\")\n",
    "driver.find_element_by_id(\"id\").send_keys(data[\"id\"])\n",
    "driver.find_element_by_id(\"pw\").send_keys(data[\"password\"])\n",
    "driver.find_element_by_css_selector(\".btn_login > input\").click()\n",
    "try:\n",
    "    driver.find_element_by_css_selector(\".btn_upload > a\").click()\n",
    "    driver.find_element_by_css_selector(\".btn_maintain > a\").click()\n",
    "except NoSuchElementException as e:\n",
    "    print(e)\n",
    "finally:\n",
    "    driver.get(\"https://news.naver.com/\")\n",
    "driver.implicitly_wait(100)\n",
    "driver.find_elements_by_css_selector(\"#lnb > ul > li > a\")[1].click()\n",
    "html= BeautifulSoup(driver.page_source, \"html.parser\")\n",
    "tempList= html.select(\"#main_content .type06_headline  a\")  \n",
    "\n",
    "for num in tempList:\n",
    "    driver.get(num[\"href\"])\n",
    "    driver.implicitly_wait(100)\n",
    "    driver.find_element_by_id(\"cbox_module__write_textarea\").send_keys(\"jiwon\")\n"
   ]
  },
  {
   "cell_type": "code",
   "execution_count": null,
   "metadata": {},
   "outputs": [],
   "source": []
  }
 ],
 "metadata": {
  "kernelspec": {
   "display_name": "Python 3",
   "language": "python",
   "name": "python3"
  },
  "language_info": {
   "codemirror_mode": {
    "name": "ipython",
    "version": 3
   },
   "file_extension": ".py",
   "mimetype": "text/x-python",
   "name": "python",
   "nbconvert_exporter": "python",
   "pygments_lexer": "ipython3",
   "version": "3.6.5"
  }
 },
 "nbformat": 4,
 "nbformat_minor": 2
}
